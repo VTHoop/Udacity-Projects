{
 "cells": [
  {
   "cell_type": "code",
   "execution_count": 1,
   "metadata": {
    "collapsed": true
   },
   "outputs": [],
   "source": [
    "import xml.etree.cElementTree as ET\n",
    "from collections import defaultdict\n",
    "import re\n",
    "import xml.dom.minidom\n",
    "import pprint\n",
    "import codecs\n",
    "import json"
   ]
  },
  {
   "cell_type": "markdown",
   "metadata": {},
   "source": [
    "### Enter filename to be used"
   ]
  },
  {
   "cell_type": "code",
   "execution_count": 27,
   "metadata": {
    "collapsed": true
   },
   "outputs": [],
   "source": [
    "#use sample file name that is built from get_sample.py\n",
    "#xml_fname = 'sample.osm'\n",
    "#use full file\n",
    "xml_fname = 'portland_oregon.osm'"
   ]
  },
  {
   "cell_type": "markdown",
   "metadata": {},
   "source": [
    "### RegEx Expressions Used"
   ]
  },
  {
   "cell_type": "code",
   "execution_count": 3,
   "metadata": {
    "collapsed": true
   },
   "outputs": [],
   "source": [
    "street_type_re = re.compile(r'\\b\\S+\\.?$', re.IGNORECASE)\n",
    "problemchars = re.compile(r'[=\\+/&<>;\\'\"\\?%#$@\\,\\.\\t\\r\\n]')"
   ]
  },
  {
   "cell_type": "markdown",
   "metadata": {},
   "source": [
    "### Analysis of File Size for Portland OSM File"
   ]
  },
  {
   "cell_type": "code",
   "execution_count": 4,
   "metadata": {
    "collapsed": false
   },
   "outputs": [
    {
     "name": "stdout",
     "output_type": "stream",
     "text": [
      " Volume in drive C is Windows\n",
      " Volume Serial Number is D257-5CE4\n",
      "\n",
      " Directory of C:\\Users\\phooper\\Documents\\Udacity\\P3\\Project\n",
      "\n",
      "\n",
      " Directory of C:\\Users\\phooper\\Documents\\Udacity\\P3\\Project\n",
      "\n",
      "04/11/2017  12:59 PM     1,586,145,881 portland_oregon.osm\n",
      "               1 File(s)  1,586,145,881 bytes\n",
      "               0 Dir(s)  402,746,929,152 bytes free\n"
     ]
    }
   ],
   "source": [
    "ls -l portland_oregon.osm"
   ]
  },
  {
   "cell_type": "markdown",
   "metadata": {},
   "source": [
    "Here we can see that the file is approx 1.6 GB."
   ]
  },
  {
   "cell_type": "markdown",
   "metadata": {},
   "source": [
    "### Analysis of Contents within Sample File Only"
   ]
  },
  {
   "cell_type": "markdown",
   "metadata": {},
   "source": [
    "#### Tags"
   ]
  },
  {
   "cell_type": "code",
   "execution_count": 5,
   "metadata": {
    "collapsed": true
   },
   "outputs": [],
   "source": [
    "def count_tags(filename):\n",
    "    tag_dict = defaultdict(int)\n",
    "    for event, elem in ET.iterparse(filename):\n",
    "        tag_dict[elem.tag] += 1\n",
    "    return tag_dict"
   ]
  },
  {
   "cell_type": "code",
   "execution_count": 6,
   "metadata": {
    "collapsed": false
   },
   "outputs": [
    {
     "name": "stdout",
     "output_type": "stream",
     "text": [
      "defaultdict(<type 'int'>, {'node': 3307, 'nd': 3852, 'member': 21, 'tag': 2479, 'relation': 3, 'way': 428, 'osm': 1})\n"
     ]
    }
   ],
   "source": [
    "tags = count_tags(xml_fname)\n",
    "pprint.pprint(tags)"
   ]
  },
  {
   "cell_type": "markdown",
   "metadata": {},
   "source": [
    "Here we can see we're dealing with 4 main XML tags within the Portland OSM file.  Below is the basic structure of the file.\n",
    "```<osm>\n",
    "    <node>\n",
    "        <tag>\n",
    "    <way>\n",
    "        <nd>\n",
    "        <tag>```"
   ]
  },
  {
   "cell_type": "markdown",
   "metadata": {},
   "source": [
    "#### Attributes"
   ]
  },
  {
   "cell_type": "code",
   "execution_count": 7,
   "metadata": {
    "collapsed": false
   },
   "outputs": [
    {
     "name": "stdout",
     "output_type": "stream",
     "text": [
      "{'nd': defaultdict(<type 'int'>, {'ref': 3852}),\n",
      " 'node': defaultdict(<type 'int'>, {'changeset': 3307, 'uid': 3307, 'timestamp': 3307, 'lon': 3307, 'version': 3307, 'user': 3307, 'lat': 3307, 'id': 3307}),\n",
      " 'tag': defaultdict(<type 'int'>, {'k': 2479, 'v': 2479}),\n",
      " 'way': defaultdict(<type 'int'>, {'changeset': 428, 'uid': 428, 'timestamp': 428, 'version': 428, 'user': 428, 'id': 428})}\n"
     ]
    }
   ],
   "source": [
    "node_attrs = defaultdict(int)\n",
    "tag_attrs = defaultdict(int)\n",
    "way_attrs = defaultdict(int)\n",
    "nd_attrs = defaultdict(int)\n",
    "\n",
    "for _, element in ET.iterparse(xml_fname):\n",
    "    if element.tag == \"node\":\n",
    "         for attrName, _ in element.attrib.items():\n",
    "                node_attrs[attrName] += 1\n",
    "    elif element.tag == \"tag\":\n",
    "         for attrName, _ in element.attrib.items():\n",
    "                tag_attrs[attrName] += 1\n",
    "    elif element.tag == \"way\":\n",
    "         for attrName, _ in element.attrib.items():\n",
    "                way_attrs[attrName] += 1\n",
    "    elif element.tag == \"nd\":\n",
    "         for attrName, _ in element.attrib.items():\n",
    "                nd_attrs[attrName] += 1\n",
    "\n",
    "attribute_dict = {\n",
    "                \"node\": node_attrs,\n",
    "                \"tag\": tag_attrs,\n",
    "                \"way\": way_attrs,\n",
    "                \"nd\": nd_attrs}\n",
    "pprint.pprint(attribute_dict)"
   ]
  },
  {
   "cell_type": "markdown",
   "metadata": {},
   "source": [
    "### Quick Analysis of the Values Within the Attributes"
   ]
  },
  {
   "cell_type": "code",
   "execution_count": 8,
   "metadata": {
    "collapsed": false
   },
   "outputs": [],
   "source": [
    "def first_attribs(node, count):\n",
    "    attrib_values = defaultdict(set)\n",
    "\n",
    "    for _, element in ET.iterparse(xml_fname):\n",
    "        if element.tag == node:\n",
    "             for attrName, attrValue in element.attrib.items():\n",
    "                    if len(attrib_values[attrName]) <= count:\n",
    "                        attrib_values[attrName].add(attrValue)\n",
    "    return attrib_values"
   ]
  },
  {
   "cell_type": "markdown",
   "metadata": {},
   "source": [
    "#### nd Tag"
   ]
  },
  {
   "cell_type": "code",
   "execution_count": 9,
   "metadata": {
    "collapsed": false,
    "scrolled": true
   },
   "outputs": [
    {
     "name": "stdout",
     "output_type": "stream",
     "text": [
      "defaultdict(<type 'set'>, {'ref': set(['3417676306', '3417676305', '3417676304', '3417676303', '3417676301', '3417676300', '3417676299', '37352633', '37352632', '37352637', '37352635'])})\n"
     ]
    }
   ],
   "source": [
    "nd_attrib = first_attribs('nd', 10)\n",
    "pprint.pprint(nd_attrib)"
   ]
  },
  {
   "cell_type": "markdown",
   "metadata": {},
   "source": [
    "#### node Tag"
   ]
  },
  {
   "cell_type": "code",
   "execution_count": 10,
   "metadata": {
    "collapsed": false
   },
   "outputs": [
    {
     "name": "stdout",
     "output_type": "stream",
     "text": [
      "defaultdict(<type 'set'>, {'changeset': set(['3260298', '36909474', '28405770', '2834389', '20328163', '8800623', '27283836', '20294672', '7632877', '27253706', '27255937']), 'uid': set(['393906', '1961229', '2565557', '362111', '92286', '3125856', '147510', '371688', '331031', '1399823', '74295']), 'timestamp': set(['2009-11-30T22:19:34Z', '2014-01-31T05:33:36Z', '2014-12-05T07:33:41Z', '2016-01-31T03:33:10Z', '2014-12-06T06:49:18Z', '2011-03-21T23:25:58Z', '2011-07-22T19:25:37Z', '2009-10-13T11:19:10Z', '2015-01-25T21:36:50Z', '2014-02-02T04:13:10Z', '2014-12-05T02:45:47Z']), 'lon': set(['-123.469024', '-122.8675556', '-123.3766553', '-122.5820211', '-122.558425', '-123.451727', '-122.3180484', '-123.3817716', '-123.4427173', '-122.6677278', '-123.5111647']), 'version': set(['11', '10', '15', '1', '3', '2', '5', '4', '7', '6', '8']), 'user': set(['lukeb', 'Mele Sax-Barnett', 'Darrell_pdxbuildings', 'Grant Humphries', 'Ryan_Peterson', 'cowdog', 'betsy', 'baradam', 'StanB', 'Paul Johnson', 'woodpeck_fixbot']), 'lat': set(['45.5408932', '45.356936', '45.5627406', '45.7302069', '45.6100958', '45.674908', '45.3878916', '45.7761482', '45.6077505', '45.3135447', '45.2733487']), 'id': set(['36976717', '36906345', '36758746', '37292875', '37246775', '37006697', '36933547', '27195852', '32649222', '37270037', '36807219'])})\n"
     ]
    }
   ],
   "source": [
    "nd_attrib = first_attribs('node', 10)\n",
    "pprint.pprint(nd_attrib)"
   ]
  },
  {
   "cell_type": "markdown",
   "metadata": {},
   "source": [
    "#### tag Tag"
   ]
  },
  {
   "cell_type": "code",
   "execution_count": 11,
   "metadata": {
    "collapsed": false
   },
   "outputs": [
    {
     "name": "stdout",
     "output_type": "stream",
     "text": [
      "defaultdict(<type 'set'>, {'k': set(['amenity', 'gnis:state_id', 'bicycle', 'gnis:county_id', 'addr:housenumber', 'barrier', 'source', 'man_made', 'addr:state', 'ele', 'note', 'religion', 'gnis:feature_id', 'addr:street', 'ref', 'highway', 'entrance', 'power', 'bus', 'phone', 'foot', 'gnis:created', 'addr:city', 'traffic_calming', 'natural', 'name', 'payment:coins', 'addr:postcode', 'public_transport', 'railway', 'landuse']), 'v': set(['Minnehaha Church of Christ', 'mine', '011', '53', 'yes', 'yahoo_wms', '11/25/2008', 'turning_circle', 'quarry', 'hump', '6011', 'christian', '067', '2474191', 'NAIP', '77', 'level_crossing', 'Record <a href=\"http://tin.er.usgs.gov/mineplant/show.php?labno=5801\">5801</a> of the <a href=\"http://tin.er.usgs.gov/mineplant/\">Active mines and mineral plants in the US</a>', 'tower', 'place_of_worship', '59', 'bing', 'Abundant Life Community Church', 'tree', 'traffic_signals', 'switch', '2508966', 'Estacada Pit', 'crossing', '07/16/2008', 'OR'])})\n"
     ]
    }
   ],
   "source": [
    "nd_attrib = first_attribs('tag',30)\n",
    "pprint.pprint(nd_attrib)"
   ]
  },
  {
   "cell_type": "markdown",
   "metadata": {},
   "source": [
    "#### way Tag"
   ]
  },
  {
   "cell_type": "code",
   "execution_count": 12,
   "metadata": {
    "collapsed": false
   },
   "outputs": [
    {
     "name": "stdout",
     "output_type": "stream",
     "text": [
      "defaultdict(<type 'set'>, {'changeset': set(['30457112', '29732045', '40357430', '40000274', '30825661', '41423749', '40075965', '40408716', '41273033', '276075', '12051109']), 'uid': set(['3735764', '7168', '2935247', '362111', '3125856', '1442206', '4048171', '81676', '4048366', '3656932', '1399823']), 'timestamp': set(['2016-06-13T19:23:26Z', '2015-03-25T16:58:00Z', '2016-06-29T04:32:38Z', '2015-05-05T22:33:43Z', '2012-06-28T21:23:04Z', '2007-08-31T16:43:25Z', '2015-04-24T15:57:33Z', '2016-06-16T19:48:40Z', '2016-08-05T20:34:15Z', '2016-07-01T05:53:32Z', '2016-08-13T06:59:58Z']), 'version': set(['10', '22', '16', '1', '3', '5', '4', '7', '6', '9', '8']), 'user': set(['Peter Dobratz', 'roadgeek99', 'Brett_Ham', 'Ryan_Peterson', 'cowdog', 'Mele Sax-Barnett', 'JeanieG', 'Meredith Rider', 'NeilLoehlein', 'cwilley106', 'DaveHansenTiger']), 'id': set(['5399751', '5279577', '5321422', '5303944', '5402878', '5386950', '5396458', '5288595', '5390264', '5297911', '5393256'])})\n"
     ]
    }
   ],
   "source": [
    "nd_attrib = first_attribs('way',10)\n",
    "pprint.pprint(nd_attrib)"
   ]
  },
  {
   "cell_type": "code",
   "execution_count": 13,
   "metadata": {
    "collapsed": false
   },
   "outputs": [
    {
     "name": "stdout",
     "output_type": "stream",
     "text": [
      "['CCGIS:bicycle', 'RLIS:bicycle', 'RLIS:systemname', 'access', 'addr:city', 'addr:housenumber', 'addr:postcode', 'addr:state', 'addr:street', 'addr:unit', 'amenity', 'barrier', 'bicycle', 'bridge', 'building', 'building:height', 'building:levels', 'bus', 'construction', 'covered', 'cuisine', 'cutting', 'cycleway', 'denomination', 'description', 'direction', 'ele', 'email', 'entrance', 'est_width', 'fax', 'fee', 'fixme', 'foot', 'footway', 'gnis:county_id', 'gnis:created', 'gnis:fcode', 'gnis:feature_id', 'gnis:ftype', 'gnis:id', 'gnis:state_id', 'height', 'heritage', 'heritage:operator', 'hgv', 'highway', 'horse', 'junction', 'landuse', 'lanes', 'lanes:forward', 'layer', 'leisure', 'level', 'man_made', 'maxspeed', 'maxspeed:advisory', 'motor_vehicle', 'name', 'name:ja', 'name_1', 'name_base', 'name_direction_prefix', 'name_type', 'natural', 'nhd:com_id', 'nhd:fdate', 'nhd:reach_code', 'note', 'office', 'old_name', 'oneway', 'oneway:bicycle', 'opening_hours', 'operator', 'payment:coins', 'pc_left', 'pc_right', 'phone', 'power', 'public_transport', 'railway', 'ref', 'ref:nrhp', 'religion', 'restriction', 'route_master', 'seamark:type', 'service', 'shop', 'sidewalk', 'source', 'source:maxspeed', 'sport', 'surface', 'tiger:cfcc', 'tiger:county', 'tiger:name_base', 'tiger:name_direction_prefix', 'tiger:name_type', 'tiger:reviewed', 'tiger:separated', 'tiger:source', 'tiger:tlid', 'tiger:upload_uuid', 'tiger:zip_left', 'tiger:zip_right', 'tourism', 'traffic_calming', 'traffic_sign', 'turn:lanes', 'turn:lanes:forward', 'type', 'unnamed', 'waterway', 'website', 'wikipedia', 'zip_left', 'zip_right']\n"
     ]
    }
   ],
   "source": [
    "attrib_values = set()\n",
    "for _, element in ET.iterparse(xml_fname):\n",
    "    if element.tag == \"tag\":\n",
    "        attrib_values.add(element.attrib['k'])\n",
    "l = sorted(list(attrib_values))\n",
    "print l"
   ]
  },
  {
   "cell_type": "markdown",
   "metadata": {},
   "source": [
    "### Initial Structure Based On Analysis"
   ]
  },
  {
   "cell_type": "markdown",
   "metadata": {},
   "source": [
    "```\n",
    "{\n",
    "    id: element.attr = \"id\", (NOT manually entered)\n",
    "    type: element.tag, (NOT manually entered)\n",
    "    time_stamp: element_attr = \"timestamp\", (NOT manually entered)\n",
    "    user: node.attr = \"user\", (NOT manually entered)\n",
    "    pos: [node.attr = \"lat', node.attr = \"lon\"], (maybe manually entered?)\n",
    "    name: tag.k = \"name\", (manually entered)\n",
    "    node_refs: [nd.ref, nd.ref,...], (not manually entered)\n",
    "    contact: \n",
    "        {\n",
    "        phone: tag.k = \"phone\", (manually entered)\n",
    "        website: tag.k = \"website\" (manually entered)\n",
    "        }   \n",
    "    address:\n",
    "        {\n",
    "        house_number: tag.k = \"addr:housenumber\", (manually entered)\n",
    "        street_name: tag.k = \"addr:street\", (manually entered)\n",
    "        city: tag.k = \"addr:city\", (manually entered)\n",
    "        state: tag.k = \"addr:state\", (manually entered)\n",
    "        postal_code: tag.k = \"addr:postcode\" (manually entered)\n",
    "        }\n",
    " }\n",
    "\n",
    "```"
   ]
  },
  {
   "cell_type": "markdown",
   "metadata": {},
   "source": [
    "### Auditing Attributes for Cleanliness and Uniformity"
   ]
  },
  {
   "cell_type": "code",
   "execution_count": 14,
   "metadata": {
    "collapsed": true
   },
   "outputs": [],
   "source": [
    "EXPECTED_STREETS = [\"Street\", \"Avenue\", \"Boulevard\", \"Drive\", \"Court\", \"Place\", \"Square\", \"Lane\", \"Road\",\n",
    "            \"Trail\", \"Parkway\", \"Commons\", \"View\", \"Way\", \"Broadway\", \"Circle\", \"Loop\", \"Highway\", \"Terrace\", \"Summit\",\n",
    "                   \"Walk\", \"Greenway\", \"Landing\", \"North\", \"East\", \"Northeast\"]"
   ]
  },
  {
   "cell_type": "code",
   "execution_count": 15,
   "metadata": {
    "collapsed": true
   },
   "outputs": [],
   "source": [
    "def is_street_name(elem):\n",
    "    return (elem.attrib['k'] == \"addr:street\")"
   ]
  },
  {
   "cell_type": "code",
   "execution_count": 16,
   "metadata": {
    "collapsed": false
   },
   "outputs": [],
   "source": [
    "def is_house_num(elem):\n",
    "    return (elem.attrib['k'] == \"addr:housenumber\")"
   ]
  },
  {
   "cell_type": "code",
   "execution_count": 17,
   "metadata": {
    "collapsed": true
   },
   "outputs": [],
   "source": [
    "def is_city(elem):\n",
    "    return (elem.attrib['k']) == \"addr:city\""
   ]
  },
  {
   "cell_type": "code",
   "execution_count": 18,
   "metadata": {
    "collapsed": true
   },
   "outputs": [],
   "source": [
    "def is_state(elem):\n",
    "    return (elem.attrib['k']) == \"addr:state\""
   ]
  },
  {
   "cell_type": "code",
   "execution_count": 19,
   "metadata": {
    "collapsed": true
   },
   "outputs": [],
   "source": [
    "def is_post_code(elem):\n",
    "    return (elem.attrib['k']) == \"addr:postcode\""
   ]
  },
  {
   "cell_type": "code",
   "execution_count": 20,
   "metadata": {
    "collapsed": true
   },
   "outputs": [],
   "source": [
    "def audit_street_type(street_types, street_name):\n",
    "    m = street_type_re.search(street_name)\n",
    "    if m:\n",
    "        street_type = m.group()\n",
    "        if street_type not in EXPECTED_STREETS:\n",
    "            street_types[street_type].add(street_name)"
   ]
  },
  {
   "cell_type": "code",
   "execution_count": 21,
   "metadata": {
    "collapsed": true
   },
   "outputs": [],
   "source": [
    "def audit_house_num(house_nums, v):\n",
    "    if problemchars.search(v):\n",
    "        house_nums.add(v)"
   ]
  },
  {
   "cell_type": "code",
   "execution_count": 22,
   "metadata": {
    "collapsed": true
   },
   "outputs": [],
   "source": [
    "def audit_city(cities, v):\n",
    "    if problemchars.search(v):\n",
    "        cities.add(v)"
   ]
  },
  {
   "cell_type": "code",
   "execution_count": 23,
   "metadata": {
    "collapsed": true
   },
   "outputs": [],
   "source": [
    "def audit_state(states, v):\n",
    "    if v != 'OR':\n",
    "        states.add(v)"
   ]
  },
  {
   "cell_type": "code",
   "execution_count": 24,
   "metadata": {
    "collapsed": false
   },
   "outputs": [],
   "source": [
    "def audit_post_code(postal_codes, v):\n",
    "    if len(v) != 5:\n",
    "        postal_codes.add(v)"
   ]
  },
  {
   "cell_type": "code",
   "execution_count": 25,
   "metadata": {
    "collapsed": false
   },
   "outputs": [],
   "source": [
    "def audit():\n",
    "    street_types = defaultdict(set)\n",
    "    house_nums = set()\n",
    "    states = set()\n",
    "    cities = set()\n",
    "    postal_codes = set()\n",
    "    for event, elem in ET.iterparse(xml_fname, events=(\"start\",)):\n",
    "        if elem.tag == \"way\":\n",
    "            for tag in elem.iter(\"tag\"):\n",
    "                if is_street_name(tag):\n",
    "                    audit_street_type(street_types, tag.attrib['v'])\n",
    "                if is_house_num(tag):\n",
    "                    audit_house_num(house_nums, tag.attrib['v'])\n",
    "                if is_state(tag):\n",
    "                    audit_state(states, tag.attrib['v'])\n",
    "                if is_city(tag):\n",
    "                    audit_city(cities, tag.attrib['v'])\n",
    "                if is_post_code(tag):\n",
    "                    audit_post_code(postal_codes, tag.attrib['v'])\n",
    "                \n",
    "    #print undefined street types\n",
    "    if street_types:\n",
    "        pprint.pprint(dict(street_types))\n",
    "    else:\n",
    "        print \"No Undefined Street Types\"\n",
    "    #print Special Characters in house nums\n",
    "    if house_nums:\n",
    "        pprint.pprint(house_nums)\n",
    "    else:\n",
    "        print \"No House Nums With Special Characters\"\n",
    "    #print states not equal to two characters in length\n",
    "    if states:\n",
    "        pprint.pprint(states)\n",
    "    else:\n",
    "        print \"No States not equal to \\\"OR\\\" \"\n",
    "    #print Special Characters in Cities\n",
    "    if cities:\n",
    "        pprint.pprint(cities)\n",
    "    else:\n",
    "        print \"No Cities With Special Characters\"\n",
    "    #print postal codes not equal to 5 characters in length\n",
    "    if postal_codes:\n",
    "        pprint.pprint(postal_codes)\n",
    "    else:\n",
    "        print \"No Postal Codes not equal to five characters\"\n",
    "        "
   ]
  },
  {
   "cell_type": "code",
   "execution_count": 28,
   "metadata": {
    "collapsed": false
   },
   "outputs": [
    {
     "name": "stdout",
     "output_type": "stream",
     "text": [
      "{'155th': set(['Southwest 155th']),\n",
      " '156th': set(['Southwest 156th']),\n",
      " '157th': set(['Southwest 157th']),\n",
      " '158th': set(['Southwest 158th']),\n",
      " '160th': set(['Southwest 160th']),\n",
      " '163rd': set(['Southwest 163rd']),\n",
      " '165th': set(['Southwest 165th']),\n",
      " '170': set(['South Highway 170']),\n",
      " '211': set(['Highway 211', 'South Highway 211', 'Southeast Highway 211']),\n",
      " '212': set(['SE Highway 212', 'Southeast Highway 212']),\n",
      " '213': set(['Highway 213', 'South Highway 213']),\n",
      " '224': set(['Northwest Highway 224',\n",
      "             'South Highway 224',\n",
      "             'Southeast Highway 224',\n",
      "             'Southwest Highway 224']),\n",
      " '26': set(['Highway 26', 'Southeast Highway 26']),\n",
      " '41st': set(['41st']),\n",
      " '4616': set(['4616']),\n",
      " '47': set(['Northwest Highway 47',\n",
      "            'Southwest Highway 47',\n",
      "            'Southwest Old Highway 47']),\n",
      " '91st': set(['SW 91st']),\n",
      " '99': set(['Northeast Highway 99']),\n",
      " '99E': set(['Highway 99E', 'South Highway 99E']),\n",
      " '99W': set(['North Highway 99W',\n",
      "             'Northeast Highway 99W',\n",
      "             'Southwest Old Highway 99W']),\n",
      " '99e': set(['South Highway 99e']),\n",
      " 'Ave': set(['12120 SW Imperial Ave',\n",
      "             '33rd Ave',\n",
      "             '4th Ave',\n",
      "             'NE 10th Ave',\n",
      "             'NE 37th Ave',\n",
      "             'NE 3rd Ave',\n",
      "             'NE 44th Ave',\n",
      "             'NW 12th Ave',\n",
      "             'NW 143rd Ave',\n",
      "             'NW 334th Ave',\n",
      "             'North 20th Ave',\n",
      "             'North 26th Ave',\n",
      "             'North Interstate Ave',\n",
      "             'Northeast 112th Ave',\n",
      "             'Northeast 122ND Ave',\n",
      "             'Northwest 185th Ave',\n",
      "             'Pacific Ave',\n",
      "             'SE 12th Ave',\n",
      "             'SE 162nd Ave',\n",
      "             'SE 60th Ave',\n",
      "             'SE 96th Ave',\n",
      "             'SW 11th Ave',\n",
      "             'SW 125th Ave',\n",
      "             'Southeast 122nd Ave',\n",
      "             'Southeast 172nd Ave',\n",
      "             'Southwest 193rd Ave']),\n",
      " 'Ave.': set(['N. Charleston Ave.',\n",
      "              'NE 12th Ave.',\n",
      "              'NW 19th Ave.',\n",
      "              'NW 21st Ave.']),\n",
      " 'Blvd': set(['SE Powell Blvd']),\n",
      " 'Blvd.': set(['21200 Northwest Rock Creek Blvd.']),\n",
      " 'Botticelli': set(['Botticelli']),\n",
      " 'Brighton': set(['Southwest Brighton']),\n",
      " 'Byway': set(['Southwest Kings Byway']),\n",
      " 'Cervantes': set(['Cervantes']),\n",
      " 'Chantilly': set(['Southwest Chantilly']),\n",
      " 'Churchill': set(['Southwest Churchill']),\n",
      " 'Circus': set(['Northwest Luray Circus',\n",
      "                'Southwest Aventine Circus',\n",
      "                'Southwest Esquiline Circus',\n",
      "                'Southwest Fairview Circus']),\n",
      " 'Crescent': set(['Northwest Ramsey Crescent']),\n",
      " 'Crest': set(['Collins Crest',\n",
      "               'Eagle Crest',\n",
      "               'Southwest Humphrey Park Crest']),\n",
      " 'Curve': set(['Horseshoe Curve']),\n",
      " 'Cynthia': set(['Southwest Cynthia']),\n",
      " 'Douglas': set(['Douglas']),\n",
      " 'Downs': set(['Churchill Downs']),\n",
      " 'Dr': set(['NE Estate Dr',\n",
      "            'NE Parkway Dr',\n",
      "            'North Marine Dr',\n",
      "            'SW Conestoga Dr',\n",
      "            'SW Cormorant Dr',\n",
      "            'SW Downing Dr']),\n",
      " 'Dr.': set(['Upper Dr.']),\n",
      " 'East': set(['Northeast Orenco Station Parkway East',\n",
      "              'Southeast Juniper Court East',\n",
      "              'Southwest Armitage Court East',\n",
      "              'Southwest Costa Circle East',\n",
      "              'Southwest Country View Court East',\n",
      "              'Southwest Edgewater East',\n",
      "              'Southwest McKenzie Court East',\n",
      "              'Southwest Town Center Loop East',\n",
      "              'Southwest Willamette Way East']),\n",
      " 'End': set(['Northwest Roads End', 'Southeast Roads End']),\n",
      " 'Falstaff': set(['Falstaff']),\n",
      " 'Fieldcrest': set(['Southeast Fieldcrest']),\n",
      " 'GLN': set(['Southwest Malcolm GLN']),\n",
      " 'Greco': set(['El Greco']),\n",
      " 'Greenway': set(['Southwest Greenway']),\n",
      " 'Grotto': set(['The Grotto']),\n",
      " 'Heights': set(['Southeast Belmore Heights']),\n",
      " 'Hotspur': set(['Hotspur']),\n",
      " 'Hwy': set(['Historic Columbia River Hwy',\n",
      "             'SW Hillsboro Hwy',\n",
      "             'SW Tualatin Valley Hwy']),\n",
      " 'Jamaica': set(['Southwest Jamaica']),\n",
      " 'Landing': set(['Northeast Boones Ferry Landing', 'Old River Landing']),\n",
      " 'Ln': set(['S Rutherford Ln']),\n",
      " 'Miami': set(['Southwest Miami']),\n",
      " 'Mississippi': set(['North Mississippi']),\n",
      " 'North': set(['Redwood Court North',\n",
      "               'Sequoia Court North',\n",
      "               'Southeast Roanoke Court North',\n",
      "               'Southwest Armitage Court North',\n",
      "               'Southwest Canyon Creek Road North',\n",
      "               'Southwest Coleman Loop North',\n",
      "               'Southwest Country View Court North',\n",
      "               'Southwest Estates Court North',\n",
      "               'Southwest Villebois Drive North',\n",
      "               'Southwest Wimbledon Circle North']),\n",
      " 'Northbound': set(['I5 Freeway Northbound']),\n",
      " 'Northeast': set(['Arney Road Northeast', 'Donald Road Northeast']),\n",
      " 'OR)': set(['US 26 (OR)']),\n",
      " 'Pacific': set(['Pacific']),\n",
      " 'Path': set(['Southwest Pawnee Path']),\n",
      " 'Pericles': set(['Pericles']),\n",
      " 'Pimlico': set(['Pimlico']),\n",
      " 'Pkwy': set(['NW Skycrest Pkwy']),\n",
      " 'Pky': set(['NW Skycrest Pky']),\n",
      " 'Point': set(['Southwest Cypress Point', 'Southwest East Lake Point']),\n",
      " 'Pointe': set(['Cabana Pointe']),\n",
      " 'Polonius': set(['Polonius']),\n",
      " 'Preakness': set(['Southwest Preakness']),\n",
      " 'Rd': set(['NW Cornell Rd',\n",
      "            'NW Laidlaw Rd',\n",
      "            'Old Portland Rd',\n",
      "            'SE Foster Rd',\n",
      "            'SW Bany Rd',\n",
      "            'SW Brockman Rd',\n",
      "            'SW Farmington Rd',\n",
      "            'SW Nicol Rd',\n",
      "            'SW Rock Creek Rd',\n",
      "            'SW Scholls Ferry Rd']),\n",
      " 'Rode': set(['Northeast Rode']),\n",
      " 'Run': set(['Fox Run',\n",
      "             'Pheasant Run',\n",
      "             'Southwest Gordons Run',\n",
      "             'Southwest Wheatland Run']),\n",
      " 'Sandy': set(['NE Sandy']),\n",
      " 'Satellite': set(['Northwest Satellite']),\n",
      " 'Skidmore': set(['N Skidmore']),\n",
      " 'South': set(['Redwood Court South',\n",
      "               'Sequoia Court South',\n",
      "               'Southeast Roanoke Court South',\n",
      "               'Southwest Armitage Court South',\n",
      "               'Southwest Canyon Creek Road South',\n",
      "               'Southwest Coleman Loop South',\n",
      "               'Southwest Country View Court South',\n",
      "               'Southwest Estates Court South',\n",
      "               'Southwest Villebois Drive South',\n",
      "               'Southwest Wimbledon Circle South']),\n",
      " 'Southbound': set(['I5 Freeway Southbound']),\n",
      " 'Spinosa': set(['Spinosa']),\n",
      " 'Srive': set(['North Marine Srive']),\n",
      " 'St': set(['N Front St',\n",
      "            'NE Broadway St',\n",
      "            'NE Broadways St',\n",
      "            'NE Lenox St',\n",
      "            'NE Lincoln St',\n",
      "            'NE Multnomah St',\n",
      "            'NW Darnielle St',\n",
      "            'NW Pettygrove St',\n",
      "            'North Prescott St',\n",
      "            'Northeast Lincoln St',\n",
      "            'Northwest Birch St',\n",
      "            'SE Ankeny St',\n",
      "            'SE Division St',\n",
      "            'SE Oak St',\n",
      "            'SW 2nd St',\n",
      "            'SW 5th St',\n",
      "            'SW Inglewood St',\n",
      "            'SW Parkway St',\n",
      "            'Southeast Lois St',\n",
      "            'Z St']),\n",
      " 'St.': set(['N Lombard St.',\n",
      "             'N. Lombard St.',\n",
      "             'NW 18th St.',\n",
      "             'NW Raleigh St.',\n",
      "             'North Lombard St.']),\n",
      " 'Summac': set(['Southwest Summac']),\n",
      " 'Summit': set(['Nansen Summit']),\n",
      " 'TRL': set(['Southeast Hittay TRL']),\n",
      " 'Terre': set(['Southeast La Bonne Terre']),\n",
      " 'Touchstone': set(['Touchstone']),\n",
      " 'Vista': set(['Northeast Dutch Vista']),\n",
      " 'Walk': set([\"Nature'S Walk\"]),\n",
      " 'West': set(['Northeast Orenco Station Parkway West',\n",
      "              'Southeast Juniper Court West',\n",
      "              'Southwest Costa Circle West',\n",
      "              'Southwest Country View Court West',\n",
      "              'Southwest Edgewater West',\n",
      "              'Southwest McKenzie Court West',\n",
      "              'Southwest Town Center Loop West',\n",
      "              'Southwest Willamette Way West']),\n",
      " 'Wheatherstone': set(['Wheatherstone']),\n",
      " 'Wheatland': set(['Southwest Wheatland']),\n",
      " 'Willamina': set(['Willamina']),\n",
      " 'Woods': set(['Summer Woods', 'Trillium Woods']),\n",
      " 'st.': set(['N. Lombard st.', 'North Harborgate st.']),\n",
      " 'street': set(['Main street', 'Northwest Lovejoy street']),\n",
      " 'unknown': set(['unknown'])}\n",
      "set(['0211,0215',\n",
      "     '0215,0217',\n",
      "     '031,033,035,037',\n",
      "     '0310,0312,0316',\n",
      "     '1014,1018',\n",
      "     '1100,1118',\n",
      "     '122,128',\n",
      "     '131,133',\n",
      "     '1312,1316',\n",
      "     '1316;1318',\n",
      "     '1316;1318;1320',\n",
      "     '13506 #A',\n",
      "     '136,138',\n",
      "     '1434,1436,1438,1440,1442',\n",
      "     '1504,1506,1508,1510',\n",
      "     '1505,1507',\n",
      "     '1511,1515,1517,1521',\n",
      "     '1610 1/2',\n",
      "     '17,19',\n",
      "     '1700,1720',\n",
      "     '1709,1711',\n",
      "     '1805,1807',\n",
      "     '1806,1808',\n",
      "     '1821,1823,1825,1827,1829',\n",
      "     '1829,1831',\n",
      "     '19,21',\n",
      "     '1907,1909',\n",
      "     '1917,1919',\n",
      "     '1924,1926',\n",
      "     '1925;1927',\n",
      "     '1937,1939',\n",
      "     '1974,1978',\n",
      "     '1980,1984',\n",
      "     '2009,2011',\n",
      "     '204,206,208',\n",
      "     '2115,2117',\n",
      "     '2120,2122,2124,2126,2128',\n",
      "     '2121,2123,2125,2127,2129',\n",
      "     '2123,2125',\n",
      "     '2123,2125,2127,2129',\n",
      "     '2124,2126',\n",
      "     '2129,2131',\n",
      "     '2130,2132,2136,2138',\n",
      "     '2131,2133',\n",
      "     '2132,2134,2136',\n",
      "     '2133,2137',\n",
      "     '2143,2147',\n",
      "     '2144,2148',\n",
      "     '2145,2147',\n",
      "     '2147,2149',\n",
      "     '2153,2155,2157,2159,2161,2163',\n",
      "     '2157,2159',\n",
      "     '2161,2163',\n",
      "     '2206,2208',\n",
      "     '2206,2210',\n",
      "     '2215,2217',\n",
      "     '2217,2219',\n",
      "     '2221,2225',\n",
      "     '2300,2302,2304',\n",
      "     '2303,2307',\n",
      "     '2306,2308,2310',\n",
      "     '2316,2318',\n",
      "     '2334,2336',\n",
      "     '2405,2407',\n",
      "     '2406,2408',\n",
      "     '24;26',\n",
      "     '2512,2514',\n",
      "     '2516,2518',\n",
      "     '2522,2526',\n",
      "     '2523,2525',\n",
      "     '2524,2532',\n",
      "     '2539,2545',\n",
      "     '2540,2544',\n",
      "     '256+6',\n",
      "     '2603,2609',\n",
      "     '2612,2614',\n",
      "     '2624,2628',\n",
      "     '2734,2736,2738,2740',\n",
      "     '2824,2826',\n",
      "     '2841,2843',\n",
      "     '2907,2909',\n",
      "     '3004,3008',\n",
      "     '3016,3018',\n",
      "     '3101,3105',\n",
      "     '3117,3119,3121,3123',\n",
      "     '3206,3208',\n",
      "     '3213,3215',\n",
      "     '3223,3225',\n",
      "     '3304,3306,3308',\n",
      "     '3304,3308',\n",
      "     '3312,3316,3320',\n",
      "     '3317,3319',\n",
      "     '3332,3336,3338',\n",
      "     '3334,3338',\n",
      "     '3344,3346',\n",
      "     '3400,3402,3404,3406',\n",
      "     '3401,3409,3413,3417',\n",
      "     '3402,3404',\n",
      "     '3414,3416,3418',\n",
      "     '3415,3417',\n",
      "     '3418,3420',\n",
      "     '3432,3434',\n",
      "     '3522,3524',\n",
      "     '4320;4322;4326',\n",
      "     '4805;4803',\n",
      "     '4807;4809',\n",
      "     '483?',\n",
      "     '6124;6126',\n",
      "     '6716;6720',\n",
      "     '801;803',\n",
      "     '823,829,833',\n",
      "     '914,916',\n",
      "     '923,925',\n",
      "     '927,929,931,933'])\n",
      "set(['Or', 'Oregon', 'WA', 'Washington', 'or', 'wa'])\n",
      "set(['Beaverton, OR', 'Portland, OR', 'Portland, Oregon', 'St. Helens'])\n",
      "set(['97005-2823',\n",
      "     '97005-2992',\n",
      "     '97035-2557',\n",
      "     '97113-8912',\n",
      "     '97116-1675',\n",
      "     '97116-2426',\n",
      "     '97116-2427',\n",
      "     '97116-2428',\n",
      "     '97116-2429',\n",
      "     '97116-2430',\n",
      "     '97116-2431',\n",
      "     '97116-2446',\n",
      "     '97116-2463',\n",
      "     '97116-2464',\n",
      "     '97116-2497',\n",
      "     '97116-2800',\n",
      "     '97116-2863',\n",
      "     '97116-2872',\n",
      "     '97116-2897',\n",
      "     '97119-8514',\n",
      "     '97124-5961',\n",
      "     '97124-9433',\n",
      "     '97140-9205',\n",
      "     '97206-2633',\n",
      "     '97211-1798',\n",
      "     '97213-1422',\n",
      "     '97225-3010',\n",
      "     '97229-5688',\n",
      "     '97236-4913',\n",
      "     '98662-6413',\n",
      "     '98683-5227',\n",
      "     'Portland, OR 97209'])\n"
     ]
    }
   ],
   "source": [
    "audit()"
   ]
  },
  {
   "cell_type": "code",
   "execution_count": null,
   "metadata": {
    "collapsed": true
   },
   "outputs": [],
   "source": [
    "STREET_MAPPING = {\"Srive\": \"Drive\",\n",
    "                  \"St\": \"Street\",\n",
    "                  \"St.\": \"Street\",\n",
    "                  \"st.\": \"Street\",\n",
    "                  \"street\": \"Street\",\n",
    "                  \"Rode\": \"Road\",\n",
    "                  \"99e\": \"99E\",\n",
    "                  \"Ave\": \"Avenue\",\n",
    "                  \"Ave.\": \"Avenue\",\n",
    "                  \"Blvd\": \"Boulevard\",\n",
    "                  \"Blvd.\": \"Boulevard\",\n",
    "                  \"Dr\": \"Drive\",\n",
    "                  \"Hwy\": \"Highway\",\n",
    "                  \"Ln\": \"Lane\",\n",
    "                  \"Pkwy\": \"Parkway\",\n",
    "                  \"Pky\": \"Parkway\",\n",
    "                  \"Rd\": \"Road\",\n",
    "                  \n",
    "                 }"
   ]
  },
  {
   "cell_type": "markdown",
   "metadata": {},
   "source": [
    "### Writing to JSON file"
   ]
  },
  {
   "cell_type": "code",
   "execution_count": null,
   "metadata": {
    "collapsed": false
   },
   "outputs": [],
   "source": [
    "TOP_LEVEL_ATTRIBS = [\"id\", \"timestamp\", \"user\"]\n",
    "CONTACT_ATTRIBS = {\n",
    "                    \"phone\": \"phone\",\n",
    "                    \"website\": \"website\"\n",
    "}\n",
    "ADDRESS_ATTRIBS = {\n",
    "                    \"addr:housenumber\": \"house_number\",\n",
    "                    \"addr:street\": \"street_name\",\n",
    "                    \"addr:city\": \"city\",\n",
    "                    \"addr:state\": \"state\",\n",
    "                    \"addr:postcode\": \"postal_code\"\n",
    "}\n",
    "ADDRESS_AUDIT = {\n",
    "    \"addr:housenumber\": audit_street_num,\n",
    "    \"addr:street\": audit_street_name,\n",
    "    \"addr:city\": audit_city,\n",
    "    \"addr:state\": audit_state,\n",
    "    \"addr:postcode\": audit_post_code\n",
    "}"
   ]
  },
  {
   "cell_type": "code",
   "execution_count": null,
   "metadata": {
    "collapsed": false
   },
   "outputs": [],
   "source": [
    "def shape_element(element):\n",
    "    node = {}\n",
    "    pos = []\n",
    "    address = {}\n",
    "    node_refs = []\n",
    "    contact = {}\n",
    "    #find all top level tags that we have identified\n",
    "    if element.tag == \"node\" or element.tag == \"way\" :\n",
    "        node['type'] = element.tag     #store node type\n",
    "        #store all desired attribute values that are not part of an array or in the tag attributes\n",
    "        for k in TOP_LEVEL_ATTRIBS:\n",
    "            node[k] = element.attrib[k]\n",
    "        #store the position attribute as an array if it exists\n",
    "        if 'lat' in element.attrib:\n",
    "            lat = float(element.attrib['lat'])\n",
    "            lon = float(element.attrib['lon'])\n",
    "            pos = [lat, lon]\n",
    "            node['pos'] = pos\n",
    "        #find all \"tag\" elements under \"node\" and \"way\"\n",
    "        for tag in element.iter(\"tag\"):\n",
    "            if tag.attrib['k'] in ADDRESS_ATTRIBS.keys():\n",
    "                #audited_v = ADDRESS_AUDIT[tag.attrib['k']](tag.attrib['v'])\n",
    "                if tag.attrib['k'] == \"addr:street\":\n",
    "                    audit_street_name(tag.attrib['v'])\n",
    "                address[ADDRESS_ATTRIBS[tag.attrib['k']]] = tag.attrib['v']            \n",
    "            if tag.attrib['k'] in CONTACT_ATTRIBS.keys():\n",
    "                contact[CONTACT_ATTRIBS[tag.attrib['k']]] = tag.attrib['v']\n",
    "        for tag in element.iter(\"nd\"):\n",
    "            node_refs.append(tag.attrib['ref'])\n",
    "\n",
    "        if node_refs:\n",
    "            node['node_refs'] = node_refs\n",
    "        if address:\n",
    "            node['address'] = address\n",
    "        if contact:\n",
    "            node['contact'] = contact\n",
    "        \n",
    "        return node\n",
    "        #return None\n",
    "    else:\n",
    "        return None"
   ]
  },
  {
   "cell_type": "code",
   "execution_count": null,
   "metadata": {
    "collapsed": false
   },
   "outputs": [],
   "source": [
    "def process_map(file_in, pretty=False):\n",
    "    file_out = \"{0}.json\".format(file_in)\n",
    "    data = []\n",
    "    with codecs.open(file_out, \"w\") as fo:\n",
    "        for _, element in ET.iterparse(file_in):\n",
    "            el = shape_element(element)\n",
    "            if el:\n",
    "                data.append(el)\n",
    "                if pretty:\n",
    "                    fo.write(json.dumps(el, indent=2) + \"\\n\")\n",
    "                else:\n",
    "                    #fo.write(json.dumps(el) + \"\\n\")\n",
    "                    #pprint.pprint(el)\n",
    "                    None\n",
    "    #return data\n",
    "    return None"
   ]
  },
  {
   "cell_type": "code",
   "execution_count": null,
   "metadata": {
    "collapsed": false
   },
   "outputs": [],
   "source": [
    "process_map(xml_fname)"
   ]
  },
  {
   "cell_type": "markdown",
   "metadata": {},
   "source": [
    "### Extra"
   ]
  },
  {
   "cell_type": "code",
   "execution_count": null,
   "metadata": {
    "collapsed": false
   },
   "outputs": [],
   "source": [
    "#osm_file = open(\"example.xml\", \"r\")"
   ]
  },
  {
   "cell_type": "code",
   "execution_count": null,
   "metadata": {
    "collapsed": true
   },
   "outputs": [],
   "source": [
    "street_type_re = re.compile(r'\\b\\S+\\.?$', re.IGNORECASE)\n",
    "street_types = defaultdict(int)"
   ]
  },
  {
   "cell_type": "code",
   "execution_count": null,
   "metadata": {
    "collapsed": false
   },
   "outputs": [],
   "source": [
    "less sample.osm"
   ]
  },
  {
   "cell_type": "code",
   "execution_count": null,
   "metadata": {
    "collapsed": true
   },
   "outputs": [],
   "source": [
    "def print_sorted_dict(d):\n",
    "    keys = d.keys()\n",
    "    keys = sorted(keys, key=lambda s: s.lower())\n",
    "    for k in keys():\n",
    "        v = d[k]\n",
    "        print \"%s: %d\" % (k,v)"
   ]
  },
  {
   "cell_type": "code",
   "execution_count": null,
   "metadata": {
    "collapsed": false
   },
   "outputs": [],
   "source": [
    "\n",
    "for event, elem in ET.iterparse(osm_file):\n",
    "    if is_street_name(elem):\n",
    "        audit_street_type(street_types, elem.attrib('v'))\n",
    "print_sorted_dict(street_types)"
   ]
  },
  {
   "cell_type": "code",
   "execution_count": null,
   "metadata": {
    "collapsed": true
   },
   "outputs": [],
   "source": []
  }
 ],
 "metadata": {
  "kernelspec": {
   "display_name": "Python 2",
   "language": "python",
   "name": "python2"
  },
  "language_info": {
   "codemirror_mode": {
    "name": "ipython",
    "version": 2
   },
   "file_extension": ".py",
   "mimetype": "text/x-python",
   "name": "python",
   "nbconvert_exporter": "python",
   "pygments_lexer": "ipython2",
   "version": "2.7.13"
  }
 },
 "nbformat": 4,
 "nbformat_minor": 2
}
